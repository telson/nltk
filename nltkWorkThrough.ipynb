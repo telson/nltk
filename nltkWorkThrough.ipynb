{
 "metadata": {
  "name": ""
 },
 "nbformat": 3,
 "nbformat_minor": 0,
 "worksheets": [
  {
   "cells": [
    {
     "cell_type": "markdown",
     "metadata": {},
     "source": [
      "http://www.nltk.org/book/ch01.html#sec-automatic-natural-language-understanding"
     ]
    },
    {
     "cell_type": "code",
     "collapsed": false,
     "input": [
      "import nltk"
     ],
     "language": "python",
     "metadata": {},
     "outputs": [],
     "prompt_number": 1
    },
    {
     "cell_type": "code",
     "collapsed": false,
     "input": [
      "## Brings up a seperate window ... only need to do this once\n",
      "#nltk.download()"
     ],
     "language": "python",
     "metadata": {},
     "outputs": [
      {
       "output_type": "stream",
       "stream": "stdout",
       "text": [
        "showing info http://nltk.github.com/nltk_data/\n"
       ]
      },
      {
       "metadata": {},
       "output_type": "pyout",
       "prompt_number": 2,
       "text": [
        "True"
       ]
      }
     ],
     "prompt_number": 2
    },
    {
     "cell_type": "code",
     "collapsed": false,
     "input": [
      "from nltk.book import text1 as text1\n",
      "from nltk.book import text3 as text3\n",
      "from nltk.book import text7 as text7"
     ],
     "language": "python",
     "metadata": {},
     "outputs": [
      {
       "output_type": "stream",
       "stream": "stdout",
       "text": [
        "*** Introductory Examples for the NLTK Book ***\n",
        "Loading text1, ..., text9 and sent1, ..., sent9\n",
        "Type the name of the text or sentence to view it.\n",
        "Type: 'texts()' or 'sents()' to list the materials.\n",
        "text1:"
       ]
      },
      {
       "output_type": "stream",
       "stream": "stdout",
       "text": [
        " Moby Dick by Herman Melville 1851\n",
        "text2:"
       ]
      },
      {
       "output_type": "stream",
       "stream": "stdout",
       "text": [
        " Sense and Sensibility by Jane Austen 1811\n",
        "text3:"
       ]
      },
      {
       "output_type": "stream",
       "stream": "stdout",
       "text": [
        " The Book of Genesis\n",
        "text4:"
       ]
      },
      {
       "output_type": "stream",
       "stream": "stdout",
       "text": [
        " Inaugural Address Corpus\n",
        "text5:"
       ]
      },
      {
       "output_type": "stream",
       "stream": "stdout",
       "text": [
        " Chat Corpus\n",
        "text6: Monty Python and the Holy Grail\n",
        "text7:"
       ]
      },
      {
       "output_type": "stream",
       "stream": "stdout",
       "text": [
        " Wall Street Journal\n",
        "text8: Personals Corpus\n",
        "text9:"
       ]
      },
      {
       "output_type": "stream",
       "stream": "stdout",
       "text": [
        " The Man Who Was Thursday by G . K . Chesterton 1908\n"
       ]
      }
     ],
     "prompt_number": 2
    },
    {
     "cell_type": "code",
     "collapsed": false,
     "input": [
      "text7"
     ],
     "language": "python",
     "metadata": {},
     "outputs": [
      {
       "metadata": {},
       "output_type": "pyout",
       "prompt_number": 11,
       "text": [
        "<Text: Wall Street Journal>"
       ]
      }
     ],
     "prompt_number": 11
    },
    {
     "cell_type": "code",
     "collapsed": false,
     "input": [
      "text1.common_contexts(['sea'])"
     ],
     "language": "python",
     "metadata": {},
     "outputs": [
      {
       "output_type": "stream",
       "stream": "stdout",
       "text": [
        "-_- -_mastodon -_warriors -_whale --_- ._fowls ;_- ?--_- a_, a_- a_.\"\n",
        "a_becalmed a_captain a_of all_- among_- and_, and_betokened\n",
        "and_blacksmiths and_carpenters\n"
       ]
      }
     ],
     "prompt_number": 12
    },
    {
     "cell_type": "code",
     "collapsed": false,
     "input": [
      "text3.concordance('lived', width=100)"
     ],
     "language": "python",
     "metadata": {},
     "outputs": [
      {
       "output_type": "stream",
       "stream": "stdout",
       "text": [
        "Building index...\n",
        "Displaying 25 of 38 matches:\n",
        ", in the day when they were created . And Adam lived an hundred and thirty years , and begat a son \n",
        "ons and daughters : And all the days that Adam lived were nine hundred and thirty yea and he died .\n",
        " hundred and thirty yea and he died . And Seth lived an hundred and five years , and begat Enos : A\n",
        "red and five years , and begat Enos : And Seth lived after he begat Enos eight hundred and seven ye\n",
        "dred and twelve years : and he died . And Enos lived ninety years , and begat Cainan : And Enos liv\n",
        "ved ninety years , and begat Cainan : And Enos lived after he begat Cainan eight hundred and fiftee\n",
        "dred and five years : and he died . And Cainan lived seventy years and begat Mahalaleel : And Caina\n",
        "eventy years and begat Mahalaleel : And Cainan lived after he begat Mahalaleel eight hundred and fo\n",
        "d and ten years : and he died . And Mahalaleel lived sixty and five years , and begat Jared : And M\n",
        " five years , and begat Jared : And Mahalaleel lived after he begat Jared eight hundred and thirty \n",
        "ed ninety and five yea and he died . And Jared lived an hundred sixty and two years , and he begat \n",
        "xty and two years , and he begat Eno And Jared lived after he begat Enoch eight hundred years , and\n",
        "dred sixty and two yea and he died . And Enoch lived sixty and five years , and begat Methuselah : \n",
        "he was not ; for God took him . And Methuselah lived an hundred eighty and seven years , and begat \n",
        "even years , and begat Lamech . And Methuselah lived after he begat Lamech seven hundred eighty and\n",
        "ed sixty and nine yea and he died . And Lamech lived an hundred eighty and two years , and begat a \n",
        "ground which the LORD hath cursed . And Lamech lived after he begat Noah five hundred ninety and fi\n",
        "m ; and Canaan shall be his servant . And Noah lived after the flood three hundred and fifty years \n",
        "egat Arphaxad two years after the flo And Shem lived after he begat Arphaxad five hundred years , a\n",
        " , and begat sons and daughters . And Arphaxad lived five and thirty years , and begat Salah : And \n",
        " thirty years , and begat Salah : And Arphaxad lived after he begat Salah four hundred and three ye\n",
        "ars , and begat sons and daughters . And Salah lived thirty years , and begat Eber : And Salah live\n",
        "ived thirty years , and begat Eber : And Salah lived after he begat Eber four hundred and three yea\n",
        "ears , and begat sons and daughters . And Eber lived four and thirty years , and begat Peleg : And \n",
        " and thirty years , and begat Peleg : And Eber lived after he begat Peleg four hundred and thirty y\n"
       ]
      }
     ],
     "prompt_number": 5
    },
    {
     "cell_type": "code",
     "collapsed": false,
     "input": [
      "text1.similar('monstrous')"
     ],
     "language": "python",
     "metadata": {},
     "outputs": [
      {
       "output_type": "stream",
       "stream": "stdout",
       "text": [
        "abundant candid careful christian contemptible curious delightfully\n",
        "determined doleful domineering exasperate fearless few gamesome\n",
        "impalpable imperial loving maddens mean modifies\n"
       ]
      }
     ],
     "prompt_number": 6
    },
    {
     "cell_type": "code",
     "collapsed": false,
     "input": [
      "text2.similar('monstrous')"
     ],
     "language": "python",
     "metadata": {},
     "outputs": [
      {
       "output_type": "stream",
       "stream": "stdout",
       "text": [
        "Building word-context index...\n",
        "very exceedingly heartily so a amazingly as extremely good great\n",
        "remarkably sweet vast"
       ]
      },
      {
       "output_type": "stream",
       "stream": "stdout",
       "text": [
        "\n"
       ]
      }
     ],
     "prompt_number": 21
    },
    {
     "cell_type": "code",
     "collapsed": false,
     "input": [
      "text2.common_contexts(['monstrous','very'])"
     ],
     "language": "python",
     "metadata": {},
     "outputs": [
      {
       "output_type": "stream",
       "stream": "stdout",
       "text": [
        "a_lucky a_pretty am_glad be_glad is_pretty\n"
       ]
      }
     ],
     "prompt_number": 23
    },
    {
     "cell_type": "code",
     "collapsed": false,
     "input": [
      "#text2.dispersion_plot(['blood','love','curse','God','night'])\n",
      "text3.dispersion_plot(['blood','love','curse','God','night','darkness','faith'])"
     ],
     "language": "python",
     "metadata": {},
     "outputs": [],
     "prompt_number": 29
    },
    {
     "cell_type": "code",
     "collapsed": false,
     "input": [
      "text3.generate()"
     ],
     "language": "python",
     "metadata": {},
     "outputs": [
      {
       "output_type": "stream",
       "stream": "stdout",
       "text": [
        "Building ngram index...\n",
        "In the selfsame day was Abraham buried Sarah his wife , the wife of\n",
        "Esau ; Thy servant Jacob ' s mandrakes . And Jacob loved Rachel ; and\n",
        "brought it again in our sacks , that I lifted up my voice ; ye wives\n",
        "of Lamech , hearken unto us , saying , The dream of Pharaoh ye shall\n",
        "be thy servants are shepherds , for an haven of ships ; and they\n",
        "called his name Issachar . And Isaac said unto him , Surely the LORD .\n",
        "And it was well watered every where , before Mamre ;"
       ]
      },
      {
       "output_type": "stream",
       "stream": "stdout",
       "text": [
        "\n"
       ]
      }
     ],
     "prompt_number": 30
    },
    {
     "cell_type": "code",
     "collapsed": false,
     "input": [
      "var = text3.tokens()"
     ],
     "language": "python",
     "metadata": {},
     "outputs": []
    },
    {
     "cell_type": "code",
     "collapsed": false,
     "input": [
      "var"
     ],
     "language": "python",
     "metadata": {},
     "outputs": []
    },
    {
     "cell_type": "code",
     "collapsed": false,
     "input": [
      "len(text3)"
     ],
     "language": "python",
     "metadata": {},
     "outputs": [
      {
       "metadata": {},
       "output_type": "pyout",
       "prompt_number": 32,
       "text": [
        "44764"
       ]
      },
      {
       "metadata": {},
       "output_type": "pyout",
       "prompt_number": 33,
       "text": [
        "44764"
       ]
      }
     ],
     "prompt_number": 33
    },
    {
     "cell_type": "code",
     "collapsed": false,
     "input": [
      "text3[1]"
     ],
     "language": "python",
     "metadata": {},
     "outputs": [
      {
       "metadata": {},
       "output_type": "pyout",
       "prompt_number": 34,
       "text": [
        "'the'"
       ]
      }
     ],
     "prompt_number": 34
    },
    {
     "cell_type": "code",
     "collapsed": false,
     "input": [
      "## Sort words/tokens\n",
      "sorted(set(text3))[:10]"
     ],
     "language": "python",
     "metadata": {},
     "outputs": [
      {
       "metadata": {},
       "output_type": "pyout",
       "prompt_number": 36,
       "text": [
        "['!', \"'\", '(', ')', ',', ',)', '.', '.)', ':', ';']"
       ]
      }
     ],
     "prompt_number": 36
    },
    {
     "cell_type": "code",
     "collapsed": false,
     "input": [
      "## Count unique words\n",
      "len(set(text3))"
     ],
     "language": "python",
     "metadata": {},
     "outputs": [
      {
       "metadata": {},
       "output_type": "pyout",
       "prompt_number": 39,
       "text": [
        "2789"
       ]
      }
     ],
     "prompt_number": 39
    },
    {
     "cell_type": "code",
     "collapsed": false,
     "input": [
      "from __future__ import division"
     ],
     "language": "python",
     "metadata": {},
     "outputs": [],
     "prompt_number": 40
    },
    {
     "cell_type": "code",
     "collapsed": false,
     "input": [
      "## Mesure of lexical richness\n",
      "len(text3)/len(set(text3))"
     ],
     "language": "python",
     "metadata": {},
     "outputs": [
      {
       "metadata": {},
       "output_type": "pyout",
       "prompt_number": 42,
       "text": [
        "16.050197203298673"
       ]
      }
     ],
     "prompt_number": 42
    },
    {
     "cell_type": "code",
     "collapsed": false,
     "input": [
      "## Calculate what percentage of Genisis is 'darkness'\n",
      "100 * text3.count('darkness')/len(text3)"
     ],
     "language": "python",
     "metadata": {},
     "outputs": [
      {
       "metadata": {},
       "output_type": "pyout",
       "prompt_number": 43,
       "text": [
        "0.008935751943526048"
       ]
      }
     ],
     "prompt_number": 43
    },
    {
     "cell_type": "code",
     "collapsed": false,
     "input": [
      "print round(100 * text3.count('God')/len(text3), 2) , '%'"
     ],
     "language": "python",
     "metadata": {},
     "outputs": [
      {
       "output_type": "stream",
       "stream": "stdout",
       "text": [
        "0.52 %\n"
       ]
      }
     ],
     "prompt_number": 48
    },
    {
     "cell_type": "code",
     "collapsed": false,
     "input": [
      "text3"
     ],
     "language": "python",
     "metadata": {},
     "outputs": [
      {
       "metadata": {},
       "output_type": "pyout",
       "prompt_number": 49,
       "text": [
        "<Text: The Book of Genesis>"
       ]
      }
     ],
     "prompt_number": 49
    },
    {
     "cell_type": "code",
     "collapsed": false,
     "input": [
      "nltk.__file__"
     ],
     "language": "python",
     "metadata": {},
     "outputs": [
      {
       "metadata": {},
       "output_type": "pyout",
       "prompt_number": 51,
       "text": [
        "'/Users/minmac/Applications/anaconda/lib/python2.7/site-packages/nltk/__init__.pyc'"
       ]
      }
     ],
     "prompt_number": 51
    },
    {
     "cell_type": "heading",
     "level": 2,
     "metadata": {},
     "source": [
      "1.3   Computing with Language: Simple Statistics"
     ]
    },
    {
     "cell_type": "code",
     "collapsed": false,
     "input": [
      "fdist1 = nltk.FreqDist(text1) # Can be done on any list"
     ],
     "language": "python",
     "metadata": {},
     "outputs": [],
     "prompt_number": 3
    },
    {
     "cell_type": "code",
     "collapsed": false,
     "input": [
      "## Acts like a dictionary\n",
      "fdist1"
     ],
     "language": "python",
     "metadata": {},
     "outputs": [
      {
       "metadata": {},
       "output_type": "pyout",
       "prompt_number": 16,
       "text": [
        "<FreqDist with 19317 samples and 260819 outcomes>"
       ]
      }
     ],
     "prompt_number": 16
    },
    {
     "cell_type": "code",
     "collapsed": false,
     "input": [
      "vocab1 = fdist1.keys()"
     ],
     "language": "python",
     "metadata": {},
     "outputs": [],
     "prompt_number": 4
    },
    {
     "cell_type": "code",
     "collapsed": false,
     "input": [
      "vocab1[:20]"
     ],
     "language": "python",
     "metadata": {},
     "outputs": [
      {
       "metadata": {},
       "output_type": "pyout",
       "prompt_number": 5,
       "text": [
        "[',',\n",
        " 'the',\n",
        " '.',\n",
        " 'of',\n",
        " 'and',\n",
        " 'a',\n",
        " 'to',\n",
        " ';',\n",
        " 'in',\n",
        " 'that',\n",
        " \"'\",\n",
        " '-',\n",
        " 'his',\n",
        " 'it',\n",
        " 'I',\n",
        " 's',\n",
        " 'is',\n",
        " 'he',\n",
        " 'with',\n",
        " 'was']"
       ]
      }
     ],
     "prompt_number": 5
    },
    {
     "cell_type": "code",
     "collapsed": false,
     "input": [
      "fdist1['whale']"
     ],
     "language": "python",
     "metadata": {},
     "outputs": [
      {
       "metadata": {},
       "output_type": "pyout",
       "prompt_number": 21,
       "text": [
        "906"
       ]
      }
     ],
     "prompt_number": 21
    },
    {
     "cell_type": "code",
     "collapsed": false,
     "input": [
      "fdist1.plot(50, cumulative=True)"
     ],
     "language": "python",
     "metadata": {},
     "outputs": [],
     "prompt_number": 22
    },
    {
     "cell_type": "code",
     "collapsed": false,
     "input": [
      "len(fdist1.hapaxes())"
     ],
     "language": "python",
     "metadata": {},
     "outputs": [
      {
       "metadata": {},
       "output_type": "pyout",
       "prompt_number": 26,
       "text": [
        "9002"
       ]
      }
     ],
     "prompt_number": 26
    },
    {
     "cell_type": "code",
     "collapsed": false,
     "input": [
      "def p(word):\n",
      "    if len(word) > 15:\n",
      "        return True\n",
      "    return False"
     ],
     "language": "python",
     "metadata": {},
     "outputs": [],
     "prompt_number": 6
    },
    {
     "cell_type": "code",
     "collapsed": false,
     "input": [
      "V = set(text1)\n",
      "## make a list of all words in moby dick that are longer than 15\n",
      "long_word_list = [w for w in vocab1 if p(w)]\n",
      "len(long_word_list)\n",
      "long_word_list"
     ],
     "language": "python",
     "metadata": {},
     "outputs": [
      {
       "metadata": {},
       "output_type": "pyout",
       "prompt_number": 18,
       "text": [
        "['apprehensiveness',\n",
        " 'comprehensiveness',\n",
        " 'indiscriminately',\n",
        " 'circumnavigating',\n",
        " 'circumnavigation',\n",
        " 'physiognomically',\n",
        " 'simultaneousness',\n",
        " 'superstitiousness',\n",
        " 'CIRCUMNAVIGATION',\n",
        " 'Physiognomically',\n",
        " 'cannibalistically',\n",
        " 'characteristically',\n",
        " 'circumnavigations',\n",
        " 'hermaphroditical',\n",
        " 'indispensableness',\n",
        " 'irresistibleness',\n",
        " 'preternaturalness',\n",
        " 'responsibilities',\n",
        " 'subterraneousness',\n",
        " 'supernaturalness',\n",
        " 'uncomfortableness',\n",
        " 'uncompromisedness',\n",
        " 'undiscriminating',\n",
        " 'uninterpenetratingly']"
       ]
      }
     ],
     "prompt_number": 18
    },
    {
     "cell_type": "markdown",
     "metadata": {},
     "source": [
      "Lets demo the some of the characteristics of sets (no duplicates)"
     ]
    },
    {
     "cell_type": "code",
     "collapsed": false,
     "input": [
      "#lwl_dups = long_word_list.append( 'apprehensiveness')\n",
      "lwl_dups = long_word_list + ['apprehensiveness']\n",
      "lwl_dups\n",
      "len(lwl_dups)"
     ],
     "language": "python",
     "metadata": {},
     "outputs": [
      {
       "metadata": {},
       "output_type": "pyout",
       "prompt_number": 28,
       "text": [
        "26"
       ]
      }
     ],
     "prompt_number": 28
    },
    {
     "cell_type": "code",
     "collapsed": false,
     "input": [
      "#long_word_set = set(long_word_list + ['apprehensiveness']) ## To make a duplicate\n",
      "long_word_set = set(lwl_dups) ## To make a duplicate\n",
      "len(long_word_set)"
     ],
     "language": "python",
     "metadata": {},
     "outputs": [
      {
       "metadata": {},
       "output_type": "pyout",
       "prompt_number": 26,
       "text": [
        "24"
       ]
      }
     ],
     "prompt_number": 26
    },
    {
     "cell_type": "markdown",
     "metadata": {},
     "source": [
      "To get the most frequently used 'long' words we could take vocab1 and pop every element that is short\n",
      " - there is also a way of finding the intersection of a set and a list ... \n",
      " new_set = myset.intersection(mylist)"
     ]
    },
    {
     "cell_type": "heading",
     "level": 3,
     "metadata": {},
     "source": [
      "Find words that characterise a test"
     ]
    },
    {
     "cell_type": "code",
     "collapsed": false,
     "input": [
      "%timeit sorted([w for w in set(text1) if len(w) > 7 and fdist1[w] > 7])"
     ],
     "language": "python",
     "metadata": {},
     "outputs": [
      {
       "output_type": "stream",
       "stream": "stdout",
       "text": [
        "1 loops, best of 3: 148 ms per loop\n"
       ]
      }
     ],
     "prompt_number": 40
    },
    {
     "cell_type": "code",
     "collapsed": false,
     "input": [
      "%timeit sorted([w for w in fdist1.keys() if len(w) > 7 and fdist1[w] > 7])"
     ],
     "language": "python",
     "metadata": {},
     "outputs": [
      {
       "output_type": "stream",
       "stream": "stdout",
       "text": [
        "10 loops, best of 3: 10.4 ms per loop\n"
       ]
      }
     ],
     "prompt_number": 41
    },
    {
     "cell_type": "heading",
     "level": 3,
     "metadata": {},
     "source": [
      "Collocations and Bigrams"
     ]
    },
    {
     "cell_type": "code",
     "collapsed": false,
     "input": [
      "#nltk.bigrams(text1)[:10]\n",
      "text1.collocations()"
     ],
     "language": "python",
     "metadata": {},
     "outputs": [
      {
       "output_type": "stream",
       "stream": "stdout",
       "text": [
        "Building collocations list\n",
        "Sperm Whale; Moby Dick; White Whale; old man; Captain Ahab; sperm\n",
        "whale; Right Whale; Captain Peleg; New Bedford; Cape Horn; cried Ahab;\n",
        "years ago; lower jaw; never mind; Father Mapple; cried Stubb; chief\n",
        "mate; white whale; ivory leg; one hand"
       ]
      },
      {
       "output_type": "stream",
       "stream": "stdout",
       "text": [
        "\n"
       ]
      }
     ],
     "prompt_number": 3
    },
    {
     "cell_type": "code",
     "collapsed": false,
     "input": [
      "length_fdist = nltk.FreqDist([len(w) for w in text1])\n",
      "length_fdist.keys()"
     ],
     "language": "python",
     "metadata": {},
     "outputs": [
      {
       "metadata": {},
       "output_type": "pyout",
       "prompt_number": 4,
       "text": [
        "[3, 1, 4, 2, 5, 6, 7, 8, 9, 10, 11, 12, 13, 14, 15, 16, 17, 18, 20]"
       ]
      }
     ],
     "prompt_number": 4
    },
    {
     "cell_type": "code",
     "collapsed": false,
     "input": [
      "length_fdist.max()"
     ],
     "language": "python",
     "metadata": {},
     "outputs": [
      {
       "metadata": {},
       "output_type": "pyout",
       "prompt_number": 5,
       "text": [
        "3"
       ]
      }
     ],
     "prompt_number": 5
    },
    {
     "cell_type": "code",
     "collapsed": false,
     "input": [
      "length_fdist[3]"
     ],
     "language": "python",
     "metadata": {},
     "outputs": [
      {
       "metadata": {},
       "output_type": "pyout",
       "prompt_number": 6,
       "text": [
        "50223"
       ]
      }
     ],
     "prompt_number": 6
    },
    {
     "cell_type": "code",
     "collapsed": false,
     "input": [
      "length_fdist.freq(3)"
     ],
     "language": "python",
     "metadata": {},
     "outputs": [
      {
       "metadata": {},
       "output_type": "pyout",
       "prompt_number": 7,
       "text": [
        "0.19255882431878046"
       ]
      }
     ],
     "prompt_number": 7
    },
    {
     "cell_type": "code",
     "collapsed": false,
     "input": [
      "#length_fdist.plot(10, cumulative=True)\n",
      "length_fdist.plot()"
     ],
     "language": "python",
     "metadata": {},
     "outputs": [],
     "prompt_number": "*"
    },
    {
     "cell_type": "code",
     "collapsed": false,
     "input": [
      "import matplotlib.pyplot as plt\n",
      "%pylab"
     ],
     "language": "python",
     "metadata": {},
     "outputs": [
      {
       "output_type": "stream",
       "stream": "stdout",
       "text": [
        "Using matplotlib backend: MacOSX\n",
        "Populating the interactive namespace from numpy and matplotlib\n"
       ]
      }
     ],
     "prompt_number": 12
    },
    {
     "cell_type": "code",
     "collapsed": false,
     "input": [
      "y = [length_fdist[key] for key in length_fdist.keys()]\n",
      "x = length_fdist.keys()\n",
      "plt.bar(x, y, align='center')\n",
      "plt.xlabel('Word length')\n",
      "plt.ylabel('Number of Occurances')\n",
      "plt.title('Word length Frequency Distribution - Moby Dick')\n",
      "plt.xticks(arange(0,21));\n",
      "plt.xlim((0,20));"
     ],
     "language": "python",
     "metadata": {},
     "outputs": [],
     "prompt_number": 24
    },
    {
     "cell_type": "code",
     "collapsed": false,
     "input": [],
     "language": "python",
     "metadata": {},
     "outputs": []
    }
   ],
   "metadata": {}
  }
 ]
}